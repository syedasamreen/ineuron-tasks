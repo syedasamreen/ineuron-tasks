{
 "cells": [
  {
   "cell_type": "code",
   "execution_count": null,
   "id": "64c1b7bf",
   "metadata": {},
   "outputs": [],
   "source": [
    "# s = \"this is My First Python programming class and i am learNING python string and its function\"\n"
   ]
  },
  {
   "cell_type": "code",
   "execution_count": 41,
   "id": "ad3b3c2f",
   "metadata": {},
   "outputs": [
    {
     "data": {
      "text/plain": [
       "'tssyityopgmncsa alrNph rgni ni'"
      ]
     },
     "execution_count": 41,
     "metadata": {},
     "output_type": "execute_result"
    }
   ],
   "source": [
    "# 1 . Try to extract data from index one to index 300 with a jump of 3 \n",
    "\n",
    "s = \"this is My First Python programming class and i am learNING python string and its function\"\n",
    "s1 =s[0:300:3];s1"
   ]
  },
  {
   "cell_type": "code",
   "execution_count": 9,
   "id": "09cb4be1",
   "metadata": {},
   "outputs": [
    {
     "data": {
      "text/plain": [
       "'noitcnuf sti dna gnirts nohtyp GNINrael ma i dna ssalc gnimmargorp nohtyP tsriF yM si siht'"
      ]
     },
     "execution_count": 9,
     "metadata": {},
     "output_type": "execute_result"
    }
   ],
   "source": [
    "# 2. Try to reverse a string without using reverse function \n",
    "s2 = s[::-1];s2"
   ]
  },
  {
   "cell_type": "code",
   "execution_count": 12,
   "id": "2272d053",
   "metadata": {},
   "outputs": [
    {
     "data": {
      "text/plain": [
       "['THIS',\n",
       " 'IS',\n",
       " 'MY',\n",
       " 'FIRST',\n",
       " 'PYTHON',\n",
       " 'PROGRAMMING',\n",
       " 'CLASS',\n",
       " 'AND',\n",
       " 'I',\n",
       " 'AM',\n",
       " 'LEARNING',\n",
       " 'PYTHON',\n",
       " 'STRING',\n",
       " 'AND',\n",
       " 'ITS',\n",
       " 'FUNCTION']"
      ]
     },
     "execution_count": 12,
     "metadata": {},
     "output_type": "execute_result"
    }
   ],
   "source": [
    "# 3. Try to split a string after conversion of entire string in uppercase \n",
    "s3 = s.upper().split();s3"
   ]
  },
  {
   "cell_type": "code",
   "execution_count": 14,
   "id": "d0fa1256",
   "metadata": {},
   "outputs": [
    {
     "data": {
      "text/plain": [
       "'this is my first python programming class and i am learning python string and its function'"
      ]
     },
     "execution_count": 14,
     "metadata": {},
     "output_type": "execute_result"
    }
   ],
   "source": [
    "# 4. try to convert the whole string into lower case \n",
    "s4 = s.lower();s4"
   ]
  },
  {
   "cell_type": "code",
   "execution_count": 16,
   "id": "1e10c9a1",
   "metadata": {},
   "outputs": [
    {
     "data": {
      "text/plain": [
       "'This is my first python programming class and i am learning python string and its function'"
      ]
     },
     "execution_count": 16,
     "metadata": {},
     "output_type": "execute_result"
    }
   ],
   "source": [
    "# 5 . Try to capitalize the whole string \n",
    "s5 = s.capitalize();s5"
   ]
  },
  {
   "cell_type": "code",
   "execution_count": 26,
   "id": "f31e1da2",
   "metadata": {},
   "outputs": [
    {
     "data": {
      "text/plain": [
       "'isalnum: This function checks for is the given string is alpha numeric are not, if it is present it gives true/n isalpha: This function checks for the given string is alphabets are not, is its then it gives true'"
      ]
     },
     "execution_count": 26,
     "metadata": {},
     "output_type": "execute_result"
    }
   ],
   "source": [
    "# 6 . Write a diference between isalnum() and isalpha()\n",
    "isnum = '''isalnum: This function checks for is the given string is alpha numeric are not, if it is present it gives true/n isalpha: This function checks for the given string is alphabets are not, is its then it gives true''';isnum"
   ]
  },
  {
   "cell_type": "code",
   "execution_count": 55,
   "id": "d4c5e30b",
   "metadata": {},
   "outputs": [
    {
     "data": {
      "text/plain": [
       "'this    is      My      First   Python  programming     class   and     i       am      learNING        python  string  and     its     function'"
      ]
     },
     "execution_count": 55,
     "metadata": {},
     "output_type": "execute_result"
    }
   ],
   "source": [
    "# 7. Try to give an example of expand tab\n",
    "S1 ='this\\tis\\tMy\\tFirst\\tPython\\tprogramming\\tclass\\tand\\ti\\tam\\tlearNING\\tpython\\tstring\\tand\\tits\\tfunction'\n",
    "s6 = S1.expandtabs(8);s6"
   ]
  },
  {
   "cell_type": "code",
   "execution_count": 71,
   "id": "37380760",
   "metadata": {
    "scrolled": true
   },
   "outputs": [
    {
     "name": "stdout",
     "output_type": "stream",
     "text": [
      "My First Python programming class and i am learNING python string and its function\n",
      "My First Python programming class and i am learNING python string and its function      \n",
      "        My First Python programming class and i am learNING python string and its function\n"
     ]
    }
   ],
   "source": [
    "# 8 . Give an example of strip , lstrip and rstrip \n",
    "#strip: will remove the spaces, lstrip: removes the left spaces, rstrip: removes right spaces... here below are the examples...\n",
    "S2 = \"        My First Python programming class and i am learNING python string and its function      \"\n",
    "s7 = S2.strip(' ');print(s7)\n",
    "s8 = S2.lstrip(' ');print(s8)\n",
    "s9 = S2.rstrip(' ');print(s9)\n"
   ]
  },
  {
   "cell_type": "code",
   "execution_count": 72,
   "id": "3d014d97",
   "metadata": {},
   "outputs": [
    {
     "data": {
      "text/plain": [
       "'ineuron'"
      ]
     },
     "execution_count": 72,
     "metadata": {},
     "output_type": "execute_result"
    }
   ],
   "source": [
    "# 9.  Replace a string charecter by another charector by taking your own example  \"sudhanshu\"\n",
    "s10 = \"sudhnashu\"\n",
    "s10 = \"ineuron\";s10"
   ]
  },
  {
   "cell_type": "code",
   "execution_count": 80,
   "id": "f4743041",
   "metadata": {},
   "outputs": [
    {
     "data": {
      "text/plain": [
       "'this is My First Python programming class and i am learNING python string and its function'"
      ]
     },
     "execution_count": 80,
     "metadata": {},
     "output_type": "execute_result"
    }
   ],
   "source": [
    "# 10 . Try  to give a defination of string center function with and exmple \n",
    "s = \"this is My First Python programming class and i am learNING python string and its function\"\n",
    "s11 = s.center(10,' ');s11"
   ]
  },
  {
   "cell_type": "code",
   "execution_count": 83,
   "id": "d6bb2fb0",
   "metadata": {},
   "outputs": [
    {
     "data": {
      "text/plain": [
       "' Compiler : compiler means it executes the code at once eg: c, c++. interpretor : Runs the code line by line, eg: python, R etc'"
      ]
     },
     "execution_count": 83,
     "metadata": {},
     "output_type": "execute_result"
    }
   ],
   "source": [
    "# 11 . Write your own definition of compiler and interpretor without copy paste form internet in your own language\n",
    "ic = ''' Compiler : compiler means it executes the code at once eg: c, c++. interpretor : Runs the code line by line, eg: python, R etc''';ic"
   ]
  },
  {
   "cell_type": "code",
   "execution_count": 84,
   "id": "c45dd57a",
   "metadata": {},
   "outputs": [
    {
     "data": {
      "text/plain": [
       "'pyhton is a interpreted langauge, its translates the source in bytes'"
      ]
     },
     "execution_count": 84,
     "metadata": {},
     "output_type": "execute_result"
    }
   ],
   "source": [
    "# 12 . Python is a interpreted of compiled language give a clear ans with your understanding \n",
    "intr = '''pyhton is a interpreted langauge, its translates the source in bytes'''; intr"
   ]
  },
  {
   "cell_type": "code",
   "execution_count": 86,
   "id": "da5813e3",
   "metadata": {},
   "outputs": [
    {
     "data": {
      "text/plain": [
       "' python used for data analysis, data manipulation, data exctraction, python is used for devoloping web application, is to handle, is to read and execute, is to understand, python used building games, building api,creating new libraries'"
      ]
     },
     "execution_count": 86,
     "metadata": {},
     "output_type": "execute_result"
    }
   ],
   "source": [
    "# 13 . Try to write a usecase of python with your understanding .\n",
    "us = ''' python used for data analysis, data manipulation, data exctraction, python is used for devoloping web application, is to handle, is to read and execute, is to understand, python used building games, building api,creating new libraries''';us\n"
   ]
  },
  {
   "cell_type": "code",
   "execution_count": null,
   "id": "4e9e94d1",
   "metadata": {},
   "outputs": [],
   "source": []
  }
 ],
 "metadata": {
  "kernelspec": {
   "display_name": "Python 3 (ipykernel)",
   "language": "python",
   "name": "python3"
  },
  "language_info": {
   "codemirror_mode": {
    "name": "ipython",
    "version": 3
   },
   "file_extension": ".py",
   "mimetype": "text/x-python",
   "name": "python",
   "nbconvert_exporter": "python",
   "pygments_lexer": "ipython3",
   "version": "3.9.7"
  }
 },
 "nbformat": 4,
 "nbformat_minor": 5
}
