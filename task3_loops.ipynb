{
 "cells": [
  {
   "cell_type": "code",
   "execution_count": null,
   "id": "3c7fc60c",
   "metadata": {},
   "outputs": [],
   "source": [
    "\n",
    "\n",
    "# q2 - \n",
    "\n",
    "#           ineruon\n",
    "#     ineruon      ineruon\n",
    "# ineruon\t\tineruon \tineruon\n",
    "# \tineruon\t\t ineruon\n",
    "# \t\t  ineruon\n",
    "\n",
    "# l = [[1,2,3,4] , (2,3,4,5,6) , (3,4,5,6,7) , set([23,4,5,45,4,4,5,45,45,4,5]) , {'k1' :\"sudh\" , \"k2\" : \"ineuron\",\"k3\":\n",
    "#             \"kumar\" , 3:6 , 7:8} , [\"ineuron\" , \"data science \"]]\n",
    "\n",
    "# q3 : Try to extract all the list entity \n",
    "# q4 : Try to extract all the dict enteties\n",
    "# q5 : Try to extract all the tuples entities\n",
    "# q6 : Try to extract all the numerical data it may b a part of dict key and values \n",
    "# q7 : Try to give summation of all the numeric data \n",
    "# q8 : Try to filter out all the odd values out all numeric data which is a part of a list \n",
    "# q9 : Try to extract \"ineruon\" out of this data\n",
    "# q10 :Try to find out a number of occurances of all the data \n",
    "# q11 : Try to find out number of keys in dict element\n",
    "# q12 : Try to filter out all the string data \n",
    "# q13 : Try to Find  out alphanum in data\n",
    "# q14 : Try to find out multiplication of all numeric value in  the individual collection inside dataset \n",
    "# q15 : Try to unwrape all the collection inside collection and create a flat list \n",
    "    \n",
    "    \n",
    "# before 29th may 2022 3 PM IST you have to send an answer to me or to shivan \n",
    "# sudhanshu@ineuron.ai\n",
    "# shivan@ineuron.ai"
   ]
  },
  {
   "cell_type": "code",
   "execution_count": 12,
   "id": "f0d7f5c9",
   "metadata": {},
   "outputs": [
    {
     "name": "stdout",
     "output_type": "stream",
     "text": [
      "ineuron \n",
      "ineuron ineuron \n",
      "ineuron ineuron ineuron \n",
      "ineuron ineuron ineuron ineuron \n"
     ]
    }
   ],
   "source": [
    "# q1 :\n",
    "# ineruon \n",
    "# ineruon ineruon \n",
    "# ineruon ineruon ineruon\n",
    "# ineruon ineruon ineruon ineruon\n",
    "n = 4\n",
    "for i in range(n):\n",
    "    print(\"ineuron\",end =\" \")\n",
    "    for j in range(i):\n",
    "        print(\"ineuron\", end=\" \")\n",
    "    for j in range(i,i+1):\n",
    "        print()"
   ]
  },
  {
   "cell_type": "code",
   "execution_count": 34,
   "id": "207c1f07",
   "metadata": {},
   "outputs": [
    {
     "name": "stdout",
     "output_type": "stream",
     "text": [
      "  ineuron ineuron ineuron ineuron ineuron   ineuron ineuron ineuron ineuron ineuron   ineuron ineuron ineuron ineuron ineuron   ineuron ineuron ineuron ineuron ineuron ineuron ineuron ineuron "
     ]
    }
   ],
   "source": [
    "# q2 - \n",
    "\n",
    "#           ineruon\n",
    "#     ineruon      ineruon\n",
    "# ineruon\t\tineruon \tineruon\n",
    "# \tineruon\t\t ineruon\n",
    "# \t\t  ineruon\n",
    "\n",
    "n = 5\n",
    "k=\"ineuron\"\n",
    "for i in range(n-1):\n",
    "    print(\" \",end=\" \")\n",
    "    for j in range(i,n):\n",
    "        print(k, end=\" \")\n",
    "    for j in range(i):\n",
    "        print(k, end=\" \")\n",
    "for j in range(i):\n",
    "    print(k,end=\" \")\n",
    "       "
   ]
  },
  {
   "cell_type": "code",
   "execution_count": 96,
   "id": "1f0d6a48",
   "metadata": {},
   "outputs": [
    {
     "name": "stdout",
     "output_type": "stream",
     "text": [
      "            ineuron \n",
      "           ineuron ineuron ineuron \n",
      "        ineuron   ineuron ineuron ineuron ineuron \n",
      "  ineuron ineuron ineuron ineuron ineuron ineuron ineuron \n",
      "    ineuron ineuron ineuron ineuron ineuron \n",
      "      ineuron ineuron ineuron \n",
      "        ineuron \n"
     ]
    }
   ],
   "source": [
    "n=4\n",
    "for i in range(n-1):\n",
    "    for j in range(i,n):\n",
    "        print(\"  \",end = \" \")\n",
    "    for j in range(i):\n",
    "        print(\" \",k,end=\" \")\n",
    "    for j in range(i+1):\n",
    "        print(k,end = \" \")\n",
    "    print()\n",
    "for i in range(n):    \n",
    "    for j in range(i+1):\n",
    "        print(\" \",end=\" \")\n",
    "    for j in range(i,n-1):\n",
    "        print(k,end=\" \")\n",
    "    for j in range(i,n):\n",
    "        print(k,end=\" \")\n",
    "    print()"
   ]
  },
  {
   "cell_type": "code",
   "execution_count": null,
   "id": "f52def46",
   "metadata": {},
   "outputs": [],
   "source": []
  }
 ],
 "metadata": {
  "kernelspec": {
   "display_name": "Python 3 (ipykernel)",
   "language": "python",
   "name": "python3"
  },
  "language_info": {
   "codemirror_mode": {
    "name": "ipython",
    "version": 3
   },
   "file_extension": ".py",
   "mimetype": "text/x-python",
   "name": "python",
   "nbconvert_exporter": "python",
   "pygments_lexer": "ipython3",
   "version": "3.9.7"
  }
 },
 "nbformat": 4,
 "nbformat_minor": 5
}
